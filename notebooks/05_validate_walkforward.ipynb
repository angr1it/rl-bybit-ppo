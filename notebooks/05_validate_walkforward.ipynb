{
 "cells": [
  {
   "cell_type": "markdown",
   "id": "96745d01",
   "metadata": {},
   "source": [
    "# 05 — Validation (Purged K-Fold)"
   ]
  },
  {
   "cell_type": "code",
   "execution_count": null,
   "id": "07e00004",
   "metadata": {},
   "outputs": [],
   "source": [
    "import numpy as np\n",
    "from packages.validate.purged_cv import purged_kfold_indices\n",
    "\n",
    "n=1000\n",
    "for tr, te in purged_kfold_indices(n, n_splits=5, embargo_pct=0.01):\n",
    "    print(len(tr), len(te))"
   ]
  }
 ],
 "metadata": {},
 "nbformat": 4,
 "nbformat_minor": 5
}
