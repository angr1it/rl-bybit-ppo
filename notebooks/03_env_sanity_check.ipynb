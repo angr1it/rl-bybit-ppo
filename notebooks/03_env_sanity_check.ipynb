{
 "cells": [
  {
   "cell_type": "markdown",
   "id": "ba0e4cc5",
   "metadata": {},
   "source": [
    "# 03 — Env sanity check\n"
   ]
  },
  {
   "cell_type": "code",
   "execution_count": 1,
   "id": "07542d6e",
   "metadata": {},
   "outputs": [
    {
     "data": {
      "text/plain": [
       "(912, 60.79169506883621)"
      ]
     },
     "execution_count": 1,
     "metadata": {},
     "output_type": "execute_result"
    }
   ],
   "source": [
    "import pandas as pd\n",
    "from packages.data.ohlcv_store import parquet_path\n",
    "from packages.env.features import make_features\n",
    "from packages.env.trading_env import SingleAssetDailyEnv\n",
    "\n",
    "df = pd.read_parquet(parquet_path(\"BTC/USDT\", \"1d\")).sort_index()\n",
    "feats = make_features(df, window=128)\n",
    "env = SingleAssetDailyEnv(features=feats, prices=df.loc[feats.index, \"close\"])\n",
    "\n",
    "obs, info = env.reset()\n",
    "rewards = []\n",
    "done = False\n",
    "while not done:\n",
    "    action = 2  # всегда long\n",
    "    obs, r, done, trunc, info = env.step(action)\n",
    "    rewards.append(r)\n",
    "len(rewards), sum(rewards)"
   ]
  },
  {
   "cell_type": "code",
   "execution_count": null,
   "id": "2f6d8ac4",
   "metadata": {},
   "outputs": [],
   "source": []
  }
 ],
 "metadata": {
  "kernelspec": {
   "display_name": ".venv (3.10.18)",
   "language": "python",
   "name": "python3"
  },
  "language_info": {
   "codemirror_mode": {
    "name": "ipython",
    "version": 3
   },
   "file_extension": ".py",
   "mimetype": "text/x-python",
   "name": "python",
   "nbconvert_exporter": "python",
   "pygments_lexer": "ipython3",
   "version": "3.10.18"
  }
 },
 "nbformat": 4,
 "nbformat_minor": 5
}
