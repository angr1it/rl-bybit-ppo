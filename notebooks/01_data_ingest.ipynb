{
 "cells": [
  {
   "cell_type": "markdown",
   "id": "3288a290",
   "metadata": {},
   "source": [
    "# 01 — Data Ingest (Bybit via ccxt)\n"
   ]
  },
  {
   "cell_type": "code",
   "execution_count": 1,
   "id": "81586ed0",
   "metadata": {},
   "outputs": [
    {
     "name": "stderr",
     "output_type": "stream",
     "text": [
      "fatal: bad revision 'HEAD'\n"
     ]
    },
    {
     "data": {
      "text/plain": [
       "(                               timestamp      open     high     low    close  \\\n",
       " dt                                                                             \n",
       " 2021-07-01 00:00:00+00:00  1625097600000  35001.72  36087.0  3030.0  36087.0   \n",
       " 2021-07-02 00:00:00+00:00  1625184000000  36087.00  36087.0  3050.0  34999.0   \n",
       " 2021-07-03 00:00:00+00:00  1625270400000  34999.00  35000.0  3500.0  35000.0   \n",
       " 2021-07-04 00:00:00+00:00  1625356800000  35000.00  35555.0  3444.0  35555.0   \n",
       " 2021-07-05 00:00:00+00:00  1625443200000  35555.00  35555.0  3500.0   3500.0   \n",
       " \n",
       "                               volume  \n",
       " dt                                    \n",
       " 2021-07-01 00:00:00+00:00  18.194234  \n",
       " 2021-07-02 00:00:00+00:00  50.669414  \n",
       " 2021-07-03 00:00:00+00:00  10.182344  \n",
       " 2021-07-04 00:00:00+00:00   9.518032  \n",
       " 2021-07-05 00:00:00+00:00   7.823778  ,\n",
       "                                timestamp      open      high       low  \\\n",
       " dt                                                                       \n",
       " 2023-12-28 00:00:00+00:00  1703721600000  29982.24  29999.99  23184.06   \n",
       " 2023-12-29 00:00:00+00:00  1703808000000  29886.20  29999.97  21278.00   \n",
       " 2023-12-30 00:00:00+00:00  1703894400000  28899.95  29999.98  10300.00   \n",
       " 2023-12-31 00:00:00+00:00  1703980800000  29827.05  29999.98  27785.42   \n",
       " 2024-01-01 00:00:00+00:00  1704067200000  28560.44  29942.49  11087.72   \n",
       " \n",
       "                               close       volume  \n",
       " dt                                                \n",
       " 2023-12-28 00:00:00+00:00  29886.20   943.135599  \n",
       " 2023-12-29 00:00:00+00:00  28899.95   762.448156  \n",
       " 2023-12-30 00:00:00+00:00  29827.05  4371.493614  \n",
       " 2023-12-31 00:00:00+00:00  28560.44   626.048644  \n",
       " 2024-01-01 00:00:00+00:00  17899.89  1076.222984  ,\n",
       " (913, 6))"
      ]
     },
     "execution_count": 1,
     "metadata": {},
     "output_type": "execute_result"
    }
   ],
   "source": [
    "%load_ext autoreload\n",
    "%autoreload 2\n",
    "import os\n",
    "from packages.data.bybit_client import BybitClient\n",
    "from packages.data.ohlcv_store import ohlcv_to_df, save_parquet\n",
    "\n",
    "client = BybitClient(sandbox=True)\n",
    "rows = client.fetch_ohlcv_all(\"BTC/USDT\", timeframe=\"1d\", since_ms=1609459200000, until_ms=1704067200000)  # 2021-01-01..2024-12-31\n",
    "df = ohlcv_to_df(rows)\n",
    "df.head(), df.tail(), df.shape"
   ]
  },
  {
   "cell_type": "code",
   "execution_count": 2,
   "id": "ece924e3",
   "metadata": {},
   "outputs": [
    {
     "data": {
      "text/plain": [
       "PosixPath('data/parquet/bybit/BTCUSDT/1d/BTCUSDT-1d.parquet')"
      ]
     },
     "execution_count": 2,
     "metadata": {},
     "output_type": "execute_result"
    }
   ],
   "source": [
    "save_parquet(df, symbol=\"BTC/USDT\", timeframe=\"1d\")"
   ]
  },
  {
   "cell_type": "code",
   "execution_count": null,
   "id": "19bd17db",
   "metadata": {},
   "outputs": [],
   "source": []
  }
 ],
 "metadata": {
  "kernelspec": {
   "display_name": ".venv (3.10.18)",
   "language": "python",
   "name": "python3"
  },
  "language_info": {
   "codemirror_mode": {
    "name": "ipython",
    "version": 3
   },
   "file_extension": ".py",
   "mimetype": "text/x-python",
   "name": "python",
   "nbconvert_exporter": "python",
   "pygments_lexer": "ipython3",
   "version": "3.10.18"
  }
 },
 "nbformat": 4,
 "nbformat_minor": 5
}
