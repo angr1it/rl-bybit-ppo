{
 "cells": [
  {
   "cell_type": "markdown",
   "id": "99f0a280",
   "metadata": {},
   "source": [
    "# 06 — Inference & Signals"
   ]
  },
  {
   "cell_type": "code",
   "execution_count": null,
   "id": "ad5ef7f1",
   "metadata": {},
   "outputs": [],
   "source": [
    "!python -m packages.rl.inference --symbol BTC/USDT --timeframe 1d --window 128 --model_path models/ppo-BTCUSDT-1d.zip"
   ]
  }
 ],
 "metadata": {},
 "nbformat": 4,
 "nbformat_minor": 5
}
