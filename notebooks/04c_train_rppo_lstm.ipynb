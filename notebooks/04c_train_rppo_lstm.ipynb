{
 "cells": [
  {
   "cell_type": "markdown",
   "id": "004b1fe3",
   "metadata": {},
   "source": [
    "# 04c — Train RecurrentPPO (LSTM)"
   ]
  },
  {
   "cell_type": "code",
   "execution_count": null,
   "id": "753ca71a",
   "metadata": {},
   "outputs": [],
   "source": [
    "!python -m packages.rl.train_ppo_lstm --symbol BTC/USDT --timeframe 1d --total_timesteps 10000 --wandb false"
   ]
  }
 ],
 "metadata": {},
 "nbformat": 4,
 "nbformat_minor": 5
}