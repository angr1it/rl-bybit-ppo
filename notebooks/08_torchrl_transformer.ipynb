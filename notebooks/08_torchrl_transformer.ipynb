{
 "cells": [
  {
   "cell_type": "markdown",
   "id": "fd240350",
   "metadata": {},
   "source": [
    "# 08 — TorchRL + Tiny Transformer"
   ]
  },
  {
   "cell_type": "code",
   "execution_count": null,
   "id": "b21f005a",
   "metadata": {},
   "outputs": [],
   "source": [
    "!python -m packages.rl_torchrl.train_torchrl_transformer --symbol BTC/USDT --timeframe 1d --window 64 --steps 1000"
   ]
  }
 ],
 "metadata": {},
 "nbformat": 4,
 "nbformat_minor": 5
}