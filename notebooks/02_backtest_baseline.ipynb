{
 "cells": [
  {
   "cell_type": "markdown",
   "id": "4c601c44",
   "metadata": {},
   "source": [
    "# 02 — Baseline Backtest (vectorbt)\n"
   ]
  },
  {
   "cell_type": "code",
   "execution_count": 1,
   "id": "e29e8ba4",
   "metadata": {},
   "outputs": [
    {
     "data": {
      "text/plain": [
       "Start                         2021-07-01 00:00:00+00:00\n",
       "End                           2024-01-01 00:00:00+00:00\n",
       "Period                                913 days 00:00:00\n",
       "Start Value                                     10000.0\n",
       "End Value                                    145.054285\n",
       "Total Return [%]                             -98.549457\n",
       "Benchmark Return [%]                         -50.397955\n",
       "Max Gross Exposure [%]                            100.0\n",
       "Total Fees Paid                                     0.0\n",
       "Max Drawdown [%]                              98.662031\n",
       "Max Drawdown Duration                 781 days 00:00:00\n",
       "Total Trades                                         12\n",
       "Total Closed Trades                                  12\n",
       "Total Open Trades                                     0\n",
       "Open Trade PnL                                      0.0\n",
       "Win Rate [%]                                       25.0\n",
       "Best Trade [%]                                14.191942\n",
       "Worst Trade [%]                              -89.113897\n",
       "Avg Winning Trade [%]                          5.008544\n",
       "Avg Losing Trade [%]                         -29.556198\n",
       "Avg Winning Trade Duration             49 days 16:00:00\n",
       "Avg Losing Trade Duration              24 days 21:20:00\n",
       "Profit Factor                                  0.066548\n",
       "Expectancy                                  -821.245476\n",
       "Sharpe Ratio                                  -0.355879\n",
       "Calmar Ratio                                  -0.826981\n",
       "Omega Ratio                                    0.882448\n",
       "Sortino Ratio                                 -0.500504\n",
       "dtype: object"
      ]
     },
     "execution_count": 1,
     "metadata": {},
     "output_type": "execute_result"
    }
   ],
   "source": [
    "import pandas as pd\n",
    "from packages.data.ohlcv_store import parquet_path\n",
    "from packages.backtest.vectorbt_runner import sma_crossover\n",
    "\n",
    "path = parquet_path(\"BTC/USDT\", \"1d\")\n",
    "df = pd.read_parquet(path).sort_index()\n",
    "pf = sma_crossover(df[\"close\"], fast=10, slow=50)\n",
    "pf.stats()"
   ]
  },
  {
   "cell_type": "code",
   "execution_count": null,
   "id": "3139dbe1",
   "metadata": {},
   "outputs": [],
   "source": []
  }
 ],
 "metadata": {
  "kernelspec": {
   "display_name": ".venv (3.10.18)",
   "language": "python",
   "name": "python3"
  },
  "language_info": {
   "codemirror_mode": {
    "name": "ipython",
    "version": 3
   },
   "file_extension": ".py",
   "mimetype": "text/x-python",
   "name": "python",
   "nbconvert_exporter": "python",
   "pygments_lexer": "ipython3",
   "version": "3.10.18"
  }
 },
 "nbformat": 4,
 "nbformat_minor": 5
}
