{
 "cells": [
  {
   "cell_type": "markdown",
   "id": "c7721041",
   "metadata": {},
   "source": [
    "# 07 — Offline RL: Decision Transformer (d3rlpy)"
   ]
  },
  {
   "cell_type": "code",
   "execution_count": null,
   "id": "24433d34",
   "metadata": {},
   "outputs": [],
   "source": [
    "!python -m packages.offline.build_trajectories --symbol BTC/USDT --timeframe 1d --window 64\n",
    "!python -m packages.offline.train_dt --dataset_path data/offline/BTCUSDT-1d-window64.npz --wandb false"
   ]
  }
 ],
 "metadata": {},
 "nbformat": 4,
 "nbformat_minor": 5
}